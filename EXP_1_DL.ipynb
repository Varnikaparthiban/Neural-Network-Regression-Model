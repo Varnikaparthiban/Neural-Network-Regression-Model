{
  "cells": [
    {
      "cell_type": "code",
      "execution_count": 2,
      "metadata": {
        "id": "b1vA_XIR3Lxb"
      },
      "outputs": [],
      "source": [
        "import torch\n",
        "import torch.nn as nn\n",
        "import torch.optim as optim\n",
        "import pandas as pd\n",
        "from sklearn.model_selection import train_test_split\n",
        "from sklearn.preprocessing import MinMaxScaler"
      ]
    },
    {
      "cell_type": "code",
      "execution_count": 3,
      "metadata": {
        "id": "EA1XFeGN3csX"
      },
      "outputs": [],
      "source": [
        "data = pd.read_csv('/content/Book1.csv')\n",
        "X = data[['Input']].values\n",
        "y = data[['Output']].values"
      ]
    },
    {
      "cell_type": "code",
      "execution_count": 4,
      "metadata": {
        "id": "0sFmWmsC5c2E"
      },
      "outputs": [],
      "source": [
        "X_train, X_test, y_train, y_test = train_test_split(X, y, test_size=0.33, random_state=33)"
      ]
    },
    {
      "cell_type": "code",
      "execution_count": 5,
      "metadata": {
        "id": "V7v3XNYp5tIZ"
      },
      "outputs": [],
      "source": [
        "scaler = MinMaxScaler()\n",
        "\n",
        "X_train = X_train.reshape(-1, 1)\n",
        "X_test = X_test.reshape(-1, 1)\n",
        "\n",
        "X_train = scaler.fit_transform(X_train)\n",
        "X_test = scaler.transform(X_test)"
      ]
    },
    {
      "cell_type": "code",
      "execution_count": null,
      "metadata": {
        "id": "GEcnSumP53lc"
      },
      "outputs": [],
      "source": [
        "X_train_tensor = torch.tensor(X_train, dtype=torch.float32)\n",
        "y_train_tensor = torch.tensor(y_train, dtype=torch.float32).view(-1, 1)\n",
        "X_test_tensor = torch.tensor(X_test, dtype=torch.float32)\n",
        "y_test_tensor = torch.tensor(y_test, dtype=torch.float32).view(-1, 1)"
      ]
    },
    {
      "cell_type": "code",
      "source": [
        "class NeuralNet(nn.Module):\n",
        "  def __init__(self):\n",
        "        super().__init__()\n",
        "\n",
        "        self.fc1 = nn.Linear(1,2)\n",
        "        self.fc2 = nn.Linear(2,5)\n",
        "        self.fc3 = nn.Linear(5,2)\n",
        "        self.fc4 = nn.Linear(2,1)\n",
        "        self.relu = nn.ReLU()\n",
        "        self.history = {'loss': []}\n",
        "\n",
        "  def forward(self, x):\n",
        "    x = self.relu(self.fc1(x))\n",
        "    x = self.relu(self.fc2(x))\n",
        "    x = self.relu(self.fc3(x))\n",
        "    x = self.fc4(x)\n",
        "\n",
        "    return x"
      ],
      "metadata": {
        "id": "LbUcI7Q_vd7r"
      },
      "execution_count": 7,
      "outputs": []
    },
    {
      "cell_type": "code",
      "execution_count": 8,
      "metadata": {
        "id": "VXiyLErr7Zaw"
      },
      "outputs": [],
      "source": [
        "ai_world = NeuralNet()\n",
        "criterion = nn.MSELoss()\n",
        "optimizer = optim.RMSprop(ai_world.parameters(),lr=0.001)\n",
        "\n",
        "\n",
        "def train_model(ai_brain, X_train, y_train, criterion, optimizer, epochs=2000):\n",
        "    for epoch in range(epochs):\n",
        "        optimizer.zero_grad()\n",
        "        loss = criterion(ai_world(X_train), y_train)\n",
        "        loss.backward()\n",
        "        optimizer.step()\n",
        "\n",
        "        ai_world.history['loss'].append(loss.item())\n",
        "\n",
        "        if epoch % 200 == 0:\n",
        "            print(f'Epoch [{epoch}/{epochs}], Loss: {loss.item():.6f}')"
      ]
    },
    {
      "cell_type": "code",
      "execution_count": 15,
      "metadata": {
        "colab": {
          "base_uri": "https://localhost:8080/"
        },
        "id": "N__jNww-8DXZ",
        "outputId": "9f0fe934-ebd0-478b-ef65-7cfd53b88d11"
      },
      "outputs": [
        {
          "output_type": "stream",
          "name": "stdout",
          "text": [
            "Epoch [0/2000], Loss: 631.424561\n",
            "Epoch [200/2000], Loss: 400.639679\n",
            "Epoch [400/2000], Loss: 210.059052\n",
            "Epoch [600/2000], Loss: 77.514275\n",
            "Epoch [800/2000], Loss: 12.947611\n",
            "Epoch [1000/2000], Loss: 0.216089\n",
            "Epoch [1200/2000], Loss: 0.008908\n",
            "Epoch [1400/2000], Loss: 0.011189\n",
            "Epoch [1600/2000], Loss: 0.013963\n",
            "Epoch [1800/2000], Loss: 0.013822\n"
          ]
        }
      ],
      "source": [
        "train_model(ai_world, X_train_tensor, y_train_tensor, criterion, optimizer)"
      ]
    },
    {
      "cell_type": "code",
      "execution_count": 16,
      "metadata": {
        "colab": {
          "base_uri": "https://localhost:8080/"
        },
        "id": "aypys6EG4UFg",
        "outputId": "b9be1b4a-4b6a-4392-987a-de8c5f13967f"
      },
      "outputs": [
        {
          "output_type": "stream",
          "name": "stdout",
          "text": [
            "Test Loss: 0.017410\n"
          ]
        }
      ],
      "source": [
        "with torch.no_grad():\n",
        "    test_loss = criterion(ai_world(X_test_tensor), y_test_tensor)\n",
        "    print(f'Test Loss: {test_loss.item():.6f}')"
      ]
    },
    {
      "cell_type": "code",
      "execution_count": 17,
      "metadata": {
        "id": "Ynb4Wta14a5r"
      },
      "outputs": [],
      "source": [
        "loss_df = pd.DataFrame(ai_world.history)"
      ]
    },
    {
      "cell_type": "code",
      "execution_count": 18,
      "metadata": {
        "colab": {
          "base_uri": "https://localhost:8080/",
          "height": 472
        },
        "id": "t0l6UjIi4evy",
        "outputId": "49e21065-7a91-4bba-e903-0318b5bc92cf"
      },
      "outputs": [
        {
          "output_type": "display_data",
          "data": {
            "text/plain": [
              "<Figure size 640x480 with 1 Axes>"
            ],
            "image/png": "[encoded data removed]"
          },
          "metadata": {}
        }
      ],
      "source": [
        "import matplotlib.pyplot as plt\n",
        "loss_df.plot()\n",
        "plt.xlabel(\"Epochs\")\n",
        "plt.ylabel(\"Loss\")\n",
        "plt.title(\"Loss during Training\")\n",
        "plt.show()\n"
      ]
    },
    {
      "cell_type": "code",
      "execution_count": 22,
      "metadata": {
        "colab": {
          "base_uri": "https://localhost:8080/"
        },
        "id": "IeAonfSk4jCV",
        "outputId": "39cfaa95-99c5-4087-d23d-aa73a7d6055b"
      },
      "outputs": [
        {
          "output_type": "stream",
          "name": "stdout",
          "text": [
            "Prediction: 80.09501647949219\n"
          ]
        }
      ],
      "source": [
        "X_n1_1 = torch.tensor([[8]], dtype=torch.float32)\n",
        "prediction = ai_world(torch.tensor(scaler.transform(X_n1_1), dtype=torch.float32)).item()\n",
        "print(f'Prediction: {prediction}')"
      ]
    },
    {
      "cell_type": "code",
      "source": [
        "X_n1_1 = torch.tensor([[5]], dtype=torch.float32)\n",
        "prediction = ai_world(torch.tensor(scaler.transform(X_n1_1), dtype=torch.float32)).item()\n",
        "print(f'Prediction: {prediction}')"
      ],
      "metadata": {
        "colab": {
          "base_uri": "https://localhost:8080/"
        },
        "id": "3ycMqyxrbbYg",
        "outputId": "7844dc90-9c06-4234-c370-fc0a01252b77"
      },
      "execution_count": 21,
      "outputs": [
        {
          "output_type": "stream",
          "name": "stdout",
          "text": [
            "Prediction: 50.07160568237305\n"
          ]
        }
      ]
    }
  ],
  "metadata": {
    "colab": {
      "provenance": []
    },
    "kernelspec": {
      "display_name": "Python 3",
      "name": "python3"
    },
    "language_info": {
      "name": "python"
    }
  },
  "nbformat": 4,
  "nbformat_minor": 0
}